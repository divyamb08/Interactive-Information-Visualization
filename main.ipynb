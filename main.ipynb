{
 "cells": [
  {
   "cell_type": "code",
   "execution_count": 1,
   "metadata": {},
   "outputs": [],
   "source": [
    "import pandas as pd\n",
    "import numpy as np\n"
   ]
  },
  {
   "cell_type": "code",
   "execution_count": 2,
   "metadata": {},
   "outputs": [],
   "source": [
    "df = pd.read_csv('nobel-prize-laureates.csv', sep=\";\")"
   ]
  },
  {
   "cell_type": "code",
   "execution_count": 3,
   "metadata": {},
   "outputs": [],
   "source": [
    "df.drop(['Geo Shape','Overall motivation'], axis=1, inplace=True)"
   ]
  },
  {
   "cell_type": "code",
   "execution_count": 4,
   "metadata": {},
   "outputs": [
    {
     "data": {
      "text/plain": [
       "Id                        0\n",
       "Firstname                 0\n",
       "Surname                  32\n",
       "Born                     40\n",
       "Died                    326\n",
       "Born country             31\n",
       "Born country code        31\n",
       "Born city                33\n",
       "Died country            338\n",
       "Died country code       338\n",
       "Died city               344\n",
       "Gender                    0\n",
       "Year                      0\n",
       "Category                  0\n",
       "Motivation                0\n",
       "Organization name       262\n",
       "Organization city       267\n",
       "Organization country    265\n",
       "Geo Point 2D            358\n",
       "dtype: int64"
      ]
     },
     "execution_count": 4,
     "metadata": {},
     "output_type": "execute_result"
    }
   ],
   "source": [
    "df.isna().sum()"
   ]
  },
  {
   "cell_type": "code",
   "execution_count": 217,
   "metadata": {},
   "outputs": [
    {
     "data": {
      "text/plain": [
       "(989, 19)"
      ]
     },
     "execution_count": 217,
     "metadata": {},
     "output_type": "execute_result"
    }
   ],
   "source": [
    "df.shape"
   ]
  },
  {
   "cell_type": "code",
   "execution_count": null,
   "metadata": {},
   "outputs": [],
   "source": []
  },
  {
   "cell_type": "code",
   "execution_count": 160,
   "metadata": {},
   "outputs": [],
   "source": [
    "df.dropna(subset = ['Organization city','Born city'], how='all', inplace=True)"
   ]
  },
  {
   "cell_type": "code",
   "execution_count": 139,
   "metadata": {},
   "outputs": [],
   "source": [
    "# df['Organization name'] = df['Organization name'].fillna(\"Unknown organization\")\n",
    "df['Organization city'] = df['Organization city'].fillna(\"Unknown organization city\")\n",
    "# df['Organization country'] = df['Organization country'].fillna(\"Unknown organization country\")\n",
    "df['Born'] = df['Born'].fillna(\"Unknown\")\n",
    "df['Born city'] = df['Born city'].fillna(\"Unknown\")\n",
    "df['Surname'] = df['Surname'].fillna(\"\")\n",
    "df['Died'] = df['Died'].fillna(\"Not Applicable\")\n",
    "\n",
    "# df['Overall motivation'] = df['Overall motivation'].fillna(\"Not Available\")\n",
    "# df['Geo Point 2D'] = df['Geo Point 2D'].fillna(0)\n",
    "\n"
   ]
  },
  {
   "cell_type": "code",
   "execution_count": 5,
   "metadata": {},
   "outputs": [],
   "source": [
    "df1 = pd.read_csv('worldcities_clean.csv')"
   ]
  },
  {
   "cell_type": "code",
   "execution_count": 18,
   "metadata": {},
   "outputs": [],
   "source": [
    "test = df.merge(df1, how=\"left\", left_on=\"Born city\", right_on=\"city\")"
   ]
  },
  {
   "cell_type": "code",
   "execution_count": 21,
   "metadata": {},
   "outputs": [],
   "source": [
    "def extract_coordinates(coord):\n",
    "    try:\n",
    "        lat, lon = map(float, coord.split(','))\n",
    "        return round(lat, 2), round(lon, 2)\n",
    "    except (ValueError, AttributeError):\n",
    "        return None, None"
   ]
  },
  {
   "cell_type": "code",
   "execution_count": 23,
   "metadata": {},
   "outputs": [
    {
     "name": "stderr",
     "output_type": "stream",
     "text": [
      "/var/folders/fn/qzkx51nn66bfy072yjlc8x_00000gn/T/ipykernel_8368/4060736740.py:1: FutureWarning: Returning a DataFrame from Series.apply when the supplied function returns a Series is deprecated and will be removed in a future version.\n",
      "  test[['latitude', 'longitude']] = test['Geo Point 2D'].apply(extract_coordinates).apply(pd.Series)\n"
     ]
    }
   ],
   "source": [
    "test[['latitude', 'longitude']] = test['Geo Point 2D'].apply(extract_coordinates).apply(pd.Series)"
   ]
  },
  {
   "cell_type": "code",
   "execution_count": 26,
   "metadata": {},
   "outputs": [],
   "source": [
    "test.dropna(subset = ['latitude','lat'], how='all', inplace=True)"
   ]
  },
  {
   "cell_type": "code",
   "execution_count": 31,
   "metadata": {},
   "outputs": [
    {
     "data": {
      "text/plain": [
       "(868, 26)"
      ]
     },
     "execution_count": 31,
     "metadata": {},
     "output_type": "execute_result"
    }
   ],
   "source": [
    "test.shape"
   ]
  },
  {
   "cell_type": "code",
   "execution_count": 33,
   "metadata": {},
   "outputs": [
    {
     "data": {
      "text/plain": [
       "Index(['Id', 'Firstname', 'Surname', 'Born', 'Died', 'Born country',\n",
       "       'Born country code', 'Born city', 'Died country', 'Died country code',\n",
       "       'Died city', 'Gender', 'Year', 'Category', 'Motivation',\n",
       "       'Organization name', 'Organization city', 'Organization country',\n",
       "       'Geo Point 2D', 'city', 'lat', 'lng', 'country', 'population',\n",
       "       'latitude', 'longitude'],\n",
       "      dtype='object')"
      ]
     },
     "execution_count": 33,
     "metadata": {},
     "output_type": "execute_result"
    }
   ],
   "source": [
    "test.columns"
   ]
  },
  {
   "cell_type": "code",
   "execution_count": 35,
   "metadata": {},
   "outputs": [],
   "source": [
    "test.drop(['Born country code','Died country code','Geo Point 2D', 'city', 'lat', 'lng', 'country', 'population',],axis=1, inplace=True)"
   ]
  },
  {
   "cell_type": "code",
   "execution_count": 37,
   "metadata": {},
   "outputs": [
    {
     "data": {
      "text/plain": [
       "Id                        0\n",
       "Firstname                 0\n",
       "Surname                   0\n",
       "Born                      8\n",
       "Died                    276\n",
       "Born country              0\n",
       "Born city                 0\n",
       "Died country            286\n",
       "Died city               289\n",
       "Gender                    0\n",
       "Year                      0\n",
       "Category                  0\n",
       "Motivation                0\n",
       "Organization name       122\n",
       "Organization city         0\n",
       "Organization country    125\n",
       "latitude                  0\n",
       "longitude                 0\n",
       "dtype: int64"
      ]
     },
     "execution_count": 37,
     "metadata": {},
     "output_type": "execute_result"
    }
   ],
   "source": [
    "test.isna().sum()"
   ]
  },
  {
   "cell_type": "code",
   "execution_count": 38,
   "metadata": {},
   "outputs": [],
   "source": [
    "test['Organization city'] = test['Organization city'].fillna(\"Unknown organization city\")\n",
    "test['Organization country'] = test['Organization country'].fillna(\"Unknown organization country\")\n",
    "test['Organization name'] = test['Organization name'].fillna(\"Unknown organization name\")\n",
    "\n",
    "test['Born'] = test['Born'].fillna(\"Unknown\")\n",
    "test['Born city'] = test['Born city'].fillna(\"Unknown\")\n",
    "test['Surname'] = test['Surname'].fillna(\"\")\n",
    "test['Died'] = test['Died'].fillna(\"Not Applicable\")\n",
    "test['Died country'] = test['Died country'].fillna(\"Not Applicable\")\n",
    "test['Died city'] = test['Died city'].fillna(\"Not Applicable\")\n",
    "\n"
   ]
  },
  {
   "cell_type": "code",
   "execution_count": 39,
   "metadata": {},
   "outputs": [],
   "source": [
    "test.to_csv('final_data.csv')"
   ]
  },
  {
   "cell_type": "code",
   "execution_count": 40,
   "metadata": {},
   "outputs": [],
   "source": [
    "def spread_coordinates(df, tolerance=0.01):\n",
    "    for i, row in df.iterrows():\n",
    "        lat, lon = row['latitude'], row['longitude']\n",
    "        mask = ((df['latitude'] >= lat - tolerance * lat) & (df['latitude'] <= lat + tolerance * lat) &\n",
    "                (df['longitude'] >= lon - tolerance * lon) & (df['longitude'] <= lon + tolerance * lon))\n",
    "        count = mask.sum()\n",
    "        \n",
    "        if count > 1:\n",
    "            spread = tolerance * lat / 2\n",
    "            df.loc[mask, 'latitude'] += spread\n",
    "            df.loc[mask, 'longitude'] += spread"
   ]
  },
  {
   "cell_type": "code",
   "execution_count": 41,
   "metadata": {},
   "outputs": [],
   "source": [
    "spread_coordinates(test)"
   ]
  },
  {
   "cell_type": "code",
   "execution_count": 42,
   "metadata": {},
   "outputs": [
    {
     "data": {
      "text/plain": [
       "Id                      0\n",
       "Firstname               0\n",
       "Surname                 0\n",
       "Born                    0\n",
       "Died                    0\n",
       "Born country            0\n",
       "Born city               0\n",
       "Died country            0\n",
       "Died city               0\n",
       "Gender                  0\n",
       "Year                    0\n",
       "Category                0\n",
       "Motivation              0\n",
       "Organization name       0\n",
       "Organization city       0\n",
       "Organization country    0\n",
       "latitude                0\n",
       "longitude               0\n",
       "dtype: int64"
      ]
     },
     "execution_count": 42,
     "metadata": {},
     "output_type": "execute_result"
    }
   ],
   "source": [
    "test.isna().sum()"
   ]
  },
  {
   "cell_type": "code",
   "execution_count": 43,
   "metadata": {},
   "outputs": [],
   "source": [
    "test.to_csv('test_data.csv')"
   ]
  },
  {
   "cell_type": "code",
   "execution_count": 45,
   "metadata": {},
   "outputs": [
    {
     "data": {
      "text/plain": [
       "2022"
      ]
     },
     "execution_count": 45,
     "metadata": {},
     "output_type": "execute_result"
    }
   ],
   "source": [
    "test['Year'].max()"
   ]
  },
  {
   "cell_type": "code",
   "execution_count": 29,
   "metadata": {},
   "outputs": [],
   "source": [
    "test['latitude'].fillna(test['lat'],inplace=True)\n",
    "test['longitude'].fillna(test['lng'],inplace=True)\n"
   ]
  },
  {
   "cell_type": "code",
   "execution_count": 212,
   "metadata": {},
   "outputs": [],
   "source": [
    "test = df.merge(df1, how=\"left\", left_on=\"Born city\", right_on=\"city\")"
   ]
  },
  {
   "cell_type": "code",
   "execution_count": 188,
   "metadata": {},
   "outputs": [],
   "source": [
    "test['lat_x'] = test['lat_x'].fillna(test['lat_y'])\n",
    "test['lng_x'] = test['lng_x'].fillna(test['lng_y'])"
   ]
  },
  {
   "cell_type": "code",
   "execution_count": 189,
   "metadata": {},
   "outputs": [],
   "source": [
    "test.drop(['Born country code','Died country code','Overall motivation','Geo Shape', 'Geo Point 2D','city_y', 'lat_y', 'lng_y'], axis=1, inplace=True)"
   ]
  },
  {
   "cell_type": "code",
   "execution_count": 190,
   "metadata": {},
   "outputs": [],
   "source": [
    "test.dropna(subset=['lat_x','lng_x'], inplace=True)"
   ]
  },
  {
   "cell_type": "code",
   "execution_count": 213,
   "metadata": {},
   "outputs": [
    {
     "data": {
      "text/plain": [
       "Id                        0\n",
       "Firstname                 0\n",
       "Surname                  32\n",
       "Born                     40\n",
       "Died                    342\n",
       "Born country             31\n",
       "Born country code        31\n",
       "Born city                 0\n",
       "Died country            355\n",
       "Died country code       355\n",
       "Died city               361\n",
       "Gender                    0\n",
       "Year                      0\n",
       "Category                  0\n",
       "Motivation                0\n",
       "Organization name       273\n",
       "Organization city       282\n",
       "Organization country    276\n",
       "Geo Point 2D            388\n",
       "city                    442\n",
       "lat                     442\n",
       "lng                     442\n",
       "country                 442\n",
       "population              442\n",
       "dtype: int64"
      ]
     },
     "execution_count": 213,
     "metadata": {},
     "output_type": "execute_result"
    }
   ],
   "source": [
    "test.isna().sum()"
   ]
  },
  {
   "cell_type": "code",
   "execution_count": null,
   "metadata": {},
   "outputs": [],
   "source": []
  },
  {
   "cell_type": "code",
   "execution_count": 12,
   "metadata": {},
   "outputs": [
    {
     "data": {
      "text/plain": [
       "0            Nagoya\n",
       "1      Little Falls\n",
       "2              Arad\n",
       "3               nan\n",
       "4            Ryazan\n",
       "           ...     \n",
       "984     Danzig (now\n",
       "985            Gary\n",
       "986          Yakima\n",
       "987       Milwaukee\n",
       "988       Haverhill\n",
       "Name: Born city, Length: 989, dtype: object"
      ]
     },
     "execution_count": 12,
     "metadata": {},
     "output_type": "execute_result"
    }
   ],
   "source": [
    "df['Born city']"
   ]
  },
  {
   "cell_type": "code",
   "execution_count": null,
   "metadata": {},
   "outputs": [],
   "source": []
  },
  {
   "cell_type": "code",
   "execution_count": null,
   "metadata": {},
   "outputs": [],
   "source": []
  },
  {
   "cell_type": "code",
   "execution_count": null,
   "metadata": {},
   "outputs": [],
   "source": []
  },
  {
   "cell_type": "code",
   "execution_count": 196,
   "metadata": {},
   "outputs": [],
   "source": [
    "test.drop(['Died country','Died city'], axis=1, inplace=True)\n"
   ]
  },
  {
   "cell_type": "code",
   "execution_count": 197,
   "metadata": {},
   "outputs": [],
   "source": [
    "test['Organization city'] = test['Organization city'].fillna(\"Unknown organization city\")\n",
    "test['Organization country'] = test['Organization country'].fillna(\"Unknown organization country\")\n",
    "test['Born'] = test['Born'].fillna(\"Unknown\")\n",
    "test['Born city'] = test['Born city'].fillna(\"Unknown\")\n",
    "test['Surname'] = test['Surname'].fillna(\"\")\n",
    "test['Died'] = test['Died'].fillna(\"Not Applicable\")\n",
    "test['Organization name'] = test['Organization name'].fillna(\"Unknown organization\")\n",
    "\n",
    "\n",
    "# test['Overall motivation'] = test['Overall motivation'].fillna(\"Not Available\")\n",
    "# test['Geo Point 2D'] = test['Geo Point 2D'].fillna(0)\n",
    "test['city_x'] = test['city_x'].fillna(\"unknown\")\n"
   ]
  },
  {
   "cell_type": "code",
   "execution_count": null,
   "metadata": {},
   "outputs": [],
   "source": []
  },
  {
   "cell_type": "code",
   "execution_count": 178,
   "metadata": {},
   "outputs": [
    {
     "data": {
      "text/plain": [
       "Index(['Id', 'Firstname', 'Surname', 'Born', 'Died', 'Born country',\n",
       "       'Born country code', 'Born city', 'Died country', 'Died country code',\n",
       "       'Died city', 'Gender', 'Year', 'Category', 'Overall motivation',\n",
       "       'Motivation', 'Organization name', 'Organization city',\n",
       "       'Organization country', 'Geo Shape', 'Geo Point 2D', 'city_x', 'lat_x',\n",
       "       'lng_x', 'city_y', 'lat_y', 'lng_y'],\n",
       "      dtype='object')"
      ]
     },
     "execution_count": 178,
     "metadata": {},
     "output_type": "execute_result"
    }
   ],
   "source": [
    "test.columns"
   ]
  },
  {
   "cell_type": "code",
   "execution_count": null,
   "metadata": {},
   "outputs": [],
   "source": []
  },
  {
   "cell_type": "code",
   "execution_count": null,
   "metadata": {},
   "outputs": [],
   "source": []
  },
  {
   "cell_type": "code",
   "execution_count": null,
   "metadata": {},
   "outputs": [],
   "source": []
  },
  {
   "cell_type": "code",
   "execution_count": 114,
   "metadata": {},
   "outputs": [
    {
     "data": {
      "text/html": [
       "<div>\n",
       "<style scoped>\n",
       "    .dataframe tbody tr th:only-of-type {\n",
       "        vertical-align: middle;\n",
       "    }\n",
       "\n",
       "    .dataframe tbody tr th {\n",
       "        vertical-align: top;\n",
       "    }\n",
       "\n",
       "    .dataframe thead th {\n",
       "        text-align: right;\n",
       "    }\n",
       "</style>\n",
       "<table border=\"1\" class=\"dataframe\">\n",
       "  <thead>\n",
       "    <tr style=\"text-align: right;\">\n",
       "      <th></th>\n",
       "      <th>Id</th>\n",
       "      <th>Firstname</th>\n",
       "      <th>Surname</th>\n",
       "      <th>Born</th>\n",
       "      <th>Died</th>\n",
       "      <th>Born country</th>\n",
       "      <th>Born country code</th>\n",
       "      <th>Born city</th>\n",
       "      <th>Gender</th>\n",
       "      <th>Year</th>\n",
       "      <th>Category</th>\n",
       "      <th>Overall motivation</th>\n",
       "      <th>Motivation</th>\n",
       "      <th>Organization name</th>\n",
       "      <th>Organization city</th>\n",
       "      <th>Organization country</th>\n",
       "      <th>Geo Point 2D</th>\n",
       "    </tr>\n",
       "  </thead>\n",
       "  <tbody>\n",
       "    <tr>\n",
       "      <th>0</th>\n",
       "      <td>827</td>\n",
       "      <td>Makoto</td>\n",
       "      <td>Kobayashi</td>\n",
       "      <td>1944-04-07</td>\n",
       "      <td>Not Applicable</td>\n",
       "      <td>Japan</td>\n",
       "      <td>JP</td>\n",
       "      <td>Nagoya</td>\n",
       "      <td>male</td>\n",
       "      <td>2008</td>\n",
       "      <td>Physics</td>\n",
       "      <td>Not Available</td>\n",
       "      <td>\"for the discovery of the origin of the broken...</td>\n",
       "      <td>High Energy Accelerator Research Organization ...</td>\n",
       "      <td>Tsukuba</td>\n",
       "      <td>Japan</td>\n",
       "      <td>37.552622590632275, 137.97995950757186</td>\n",
       "    </tr>\n",
       "    <tr>\n",
       "      <th>1</th>\n",
       "      <td>879</td>\n",
       "      <td>Brian</td>\n",
       "      <td>Kobilka</td>\n",
       "      <td>1955-05-30</td>\n",
       "      <td>Not Applicable</td>\n",
       "      <td>USA</td>\n",
       "      <td>US</td>\n",
       "      <td>Little Falls MN</td>\n",
       "      <td>male</td>\n",
       "      <td>2012</td>\n",
       "      <td>Chemistry</td>\n",
       "      <td>Not Available</td>\n",
       "      <td>\"for studies of G-protein-coupled receptors\"</td>\n",
       "      <td>Stanford University School of Medicine</td>\n",
       "      <td>Stanford CA</td>\n",
       "      <td>USA</td>\n",
       "      <td>45.68753333949257, -112.49433391594603</td>\n",
       "    </tr>\n",
       "    <tr>\n",
       "      <th>2</th>\n",
       "      <td>910</td>\n",
       "      <td>Stefan W.</td>\n",
       "      <td>Hell</td>\n",
       "      <td>1962-12-23</td>\n",
       "      <td>Not Applicable</td>\n",
       "      <td>Romania</td>\n",
       "      <td>RO</td>\n",
       "      <td>Arad</td>\n",
       "      <td>male</td>\n",
       "      <td>2014</td>\n",
       "      <td>Chemistry</td>\n",
       "      <td>Not Available</td>\n",
       "      <td>\"for the development of super-resolved fluores...</td>\n",
       "      <td>Max Planck Institute for Biophysical Chemistry</td>\n",
       "      <td>Göttingen</td>\n",
       "      <td>Germany</td>\n",
       "      <td>51.106273435758716, 10.381710872747187</td>\n",
       "    </tr>\n",
       "    <tr>\n",
       "      <th>4</th>\n",
       "      <td>296</td>\n",
       "      <td>Ivan</td>\n",
       "      <td>Pavlov</td>\n",
       "      <td>1849-09-14</td>\n",
       "      <td>1936-02-27</td>\n",
       "      <td>Russia</td>\n",
       "      <td>RU</td>\n",
       "      <td>Ryazan</td>\n",
       "      <td>male</td>\n",
       "      <td>1904</td>\n",
       "      <td>Medicine</td>\n",
       "      <td>Not Available</td>\n",
       "      <td>\"in recognition of his work on the physiology ...</td>\n",
       "      <td>Military Medical Academy</td>\n",
       "      <td>St. Petersburg</td>\n",
       "      <td>Russia</td>\n",
       "      <td>61.98434173753368, 96.6934557674586</td>\n",
       "    </tr>\n",
       "    <tr>\n",
       "      <th>5</th>\n",
       "      <td>311</td>\n",
       "      <td>Archibald V.</td>\n",
       "      <td>Hill</td>\n",
       "      <td>1886-09-26</td>\n",
       "      <td>1977-06-03</td>\n",
       "      <td>United Kingdom</td>\n",
       "      <td>GB</td>\n",
       "      <td>Bristol</td>\n",
       "      <td>male</td>\n",
       "      <td>1922</td>\n",
       "      <td>Medicine</td>\n",
       "      <td>Not Available</td>\n",
       "      <td>\"for his discovery relating to the production ...</td>\n",
       "      <td>London University</td>\n",
       "      <td>London</td>\n",
       "      <td>United Kingdom</td>\n",
       "      <td>0</td>\n",
       "    </tr>\n",
       "    <tr>\n",
       "      <th>...</th>\n",
       "      <td>...</td>\n",
       "      <td>...</td>\n",
       "      <td>...</td>\n",
       "      <td>...</td>\n",
       "      <td>...</td>\n",
       "      <td>...</td>\n",
       "      <td>...</td>\n",
       "      <td>...</td>\n",
       "      <td>...</td>\n",
       "      <td>...</td>\n",
       "      <td>...</td>\n",
       "      <td>...</td>\n",
       "      <td>...</td>\n",
       "      <td>...</td>\n",
       "      <td>...</td>\n",
       "      <td>...</td>\n",
       "      <td>...</td>\n",
       "    </tr>\n",
       "    <tr>\n",
       "      <th>977</th>\n",
       "      <td>909</td>\n",
       "      <td>Eric</td>\n",
       "      <td>Betzig</td>\n",
       "      <td>1960-01-13</td>\n",
       "      <td>Not Applicable</td>\n",
       "      <td>USA</td>\n",
       "      <td>US</td>\n",
       "      <td>Ann Arbor MI</td>\n",
       "      <td>male</td>\n",
       "      <td>2014</td>\n",
       "      <td>Chemistry</td>\n",
       "      <td>Not Available</td>\n",
       "      <td>\"for the development of super-resolved fluores...</td>\n",
       "      <td>Janelia Research Campus Howard Hughes Medical ...</td>\n",
       "      <td>Ashburn VA</td>\n",
       "      <td>USA</td>\n",
       "      <td>45.68753333949257, -112.49433391594603</td>\n",
       "    </tr>\n",
       "    <tr>\n",
       "      <th>985</th>\n",
       "      <td>679</td>\n",
       "      <td>Paul A.</td>\n",
       "      <td>Samuelson</td>\n",
       "      <td>1915-05-15</td>\n",
       "      <td>2009-12-13</td>\n",
       "      <td>USA</td>\n",
       "      <td>US</td>\n",
       "      <td>Gary IN</td>\n",
       "      <td>male</td>\n",
       "      <td>1970</td>\n",
       "      <td>Economics</td>\n",
       "      <td>Not Available</td>\n",
       "      <td>\"for the scientific work through which he has ...</td>\n",
       "      <td>Massachusetts Institute of Technology (MIT)</td>\n",
       "      <td>Cambridge MA</td>\n",
       "      <td>USA</td>\n",
       "      <td>45.68753333949257, -112.49433391594603</td>\n",
       "    </tr>\n",
       "    <tr>\n",
       "      <th>986</th>\n",
       "      <td>714</td>\n",
       "      <td>Robert E.</td>\n",
       "      <td>Lucas Jr.</td>\n",
       "      <td>1937-09-15</td>\n",
       "      <td>2023-05-15</td>\n",
       "      <td>USA</td>\n",
       "      <td>US</td>\n",
       "      <td>Yakima WA</td>\n",
       "      <td>male</td>\n",
       "      <td>1995</td>\n",
       "      <td>Economics</td>\n",
       "      <td>Not Available</td>\n",
       "      <td>\"for having developed and applied the hypothes...</td>\n",
       "      <td>University of Chicago</td>\n",
       "      <td>Chicago IL</td>\n",
       "      <td>USA</td>\n",
       "      <td>45.68753333949257, -112.49433391594603</td>\n",
       "    </tr>\n",
       "    <tr>\n",
       "      <th>987</th>\n",
       "      <td>842</td>\n",
       "      <td>Thomas A.</td>\n",
       "      <td>Steitz</td>\n",
       "      <td>1940-08-23</td>\n",
       "      <td>2018-08-23</td>\n",
       "      <td>USA</td>\n",
       "      <td>US</td>\n",
       "      <td>Milwaukee WI</td>\n",
       "      <td>male</td>\n",
       "      <td>2009</td>\n",
       "      <td>Chemistry</td>\n",
       "      <td>Not Available</td>\n",
       "      <td>\"for studies of the structure and function of ...</td>\n",
       "      <td>Yale University</td>\n",
       "      <td>New Haven CT</td>\n",
       "      <td>USA</td>\n",
       "      <td>45.68753333949257, -112.49433391594603</td>\n",
       "    </tr>\n",
       "    <tr>\n",
       "      <th>988</th>\n",
       "      <td>884</td>\n",
       "      <td>James E.</td>\n",
       "      <td>Rothman</td>\n",
       "      <td>1950-11-03</td>\n",
       "      <td>Not Applicable</td>\n",
       "      <td>USA</td>\n",
       "      <td>US</td>\n",
       "      <td>Haverhill MA</td>\n",
       "      <td>male</td>\n",
       "      <td>2013</td>\n",
       "      <td>Medicine</td>\n",
       "      <td>Not Available</td>\n",
       "      <td>\"for their discoveries of machinery regulating...</td>\n",
       "      <td>Yale University</td>\n",
       "      <td>New Haven CT</td>\n",
       "      <td>USA</td>\n",
       "      <td>45.68753333949257, -112.49433391594603</td>\n",
       "    </tr>\n",
       "  </tbody>\n",
       "</table>\n",
       "<p>724 rows × 17 columns</p>\n",
       "</div>"
      ],
      "text/plain": [
       "      Id     Firstname    Surname        Born            Died    Born country  \\\n",
       "0    827        Makoto  Kobayashi  1944-04-07  Not Applicable           Japan   \n",
       "1    879         Brian    Kobilka  1955-05-30  Not Applicable             USA   \n",
       "2    910     Stefan W.       Hell  1962-12-23  Not Applicable         Romania   \n",
       "4    296          Ivan     Pavlov  1849-09-14      1936-02-27          Russia   \n",
       "5    311  Archibald V.       Hill  1886-09-26      1977-06-03  United Kingdom   \n",
       "..   ...           ...        ...         ...             ...             ...   \n",
       "977  909          Eric     Betzig  1960-01-13  Not Applicable             USA   \n",
       "985  679       Paul A.  Samuelson  1915-05-15      2009-12-13             USA   \n",
       "986  714     Robert E.  Lucas Jr.  1937-09-15      2023-05-15             USA   \n",
       "987  842     Thomas A.     Steitz  1940-08-23      2018-08-23             USA   \n",
       "988  884      James E.    Rothman  1950-11-03  Not Applicable             USA   \n",
       "\n",
       "    Born country code        Born city Gender  Year   Category  \\\n",
       "0                  JP           Nagoya   male  2008    Physics   \n",
       "1                  US  Little Falls MN   male  2012  Chemistry   \n",
       "2                  RO             Arad   male  2014  Chemistry   \n",
       "4                  RU           Ryazan   male  1904   Medicine   \n",
       "5                  GB          Bristol   male  1922   Medicine   \n",
       "..                ...              ...    ...   ...        ...   \n",
       "977                US     Ann Arbor MI   male  2014  Chemistry   \n",
       "985                US          Gary IN   male  1970  Economics   \n",
       "986                US        Yakima WA   male  1995  Economics   \n",
       "987                US     Milwaukee WI   male  2009  Chemistry   \n",
       "988                US     Haverhill MA   male  2013   Medicine   \n",
       "\n",
       "    Overall motivation                                         Motivation  \\\n",
       "0        Not Available  \"for the discovery of the origin of the broken...   \n",
       "1        Not Available       \"for studies of G-protein-coupled receptors\"   \n",
       "2        Not Available  \"for the development of super-resolved fluores...   \n",
       "4        Not Available  \"in recognition of his work on the physiology ...   \n",
       "5        Not Available  \"for his discovery relating to the production ...   \n",
       "..                 ...                                                ...   \n",
       "977      Not Available  \"for the development of super-resolved fluores...   \n",
       "985      Not Available  \"for the scientific work through which he has ...   \n",
       "986      Not Available  \"for having developed and applied the hypothes...   \n",
       "987      Not Available  \"for studies of the structure and function of ...   \n",
       "988      Not Available  \"for their discoveries of machinery regulating...   \n",
       "\n",
       "                                     Organization name Organization city  \\\n",
       "0    High Energy Accelerator Research Organization ...           Tsukuba   \n",
       "1               Stanford University School of Medicine       Stanford CA   \n",
       "2       Max Planck Institute for Biophysical Chemistry         Göttingen   \n",
       "4                             Military Medical Academy    St. Petersburg   \n",
       "5                                    London University            London   \n",
       "..                                                 ...               ...   \n",
       "977  Janelia Research Campus Howard Hughes Medical ...        Ashburn VA   \n",
       "985        Massachusetts Institute of Technology (MIT)      Cambridge MA   \n",
       "986                              University of Chicago        Chicago IL   \n",
       "987                                    Yale University      New Haven CT   \n",
       "988                                    Yale University      New Haven CT   \n",
       "\n",
       "    Organization country                            Geo Point 2D  \n",
       "0                  Japan  37.552622590632275, 137.97995950757186  \n",
       "1                    USA  45.68753333949257, -112.49433391594603  \n",
       "2                Germany  51.106273435758716, 10.381710872747187  \n",
       "4                 Russia     61.98434173753368, 96.6934557674586  \n",
       "5         United Kingdom                                       0  \n",
       "..                   ...                                     ...  \n",
       "977                  USA  45.68753333949257, -112.49433391594603  \n",
       "985                  USA  45.68753333949257, -112.49433391594603  \n",
       "986                  USA  45.68753333949257, -112.49433391594603  \n",
       "987                  USA  45.68753333949257, -112.49433391594603  \n",
       "988                  USA  45.68753333949257, -112.49433391594603  \n",
       "\n",
       "[724 rows x 17 columns]"
      ]
     },
     "execution_count": 114,
     "metadata": {},
     "output_type": "execute_result"
    }
   ],
   "source": [
    "df"
   ]
  },
  {
   "cell_type": "code",
   "execution_count": null,
   "metadata": {},
   "outputs": [],
   "source": []
  },
  {
   "cell_type": "code",
   "execution_count": 165,
   "metadata": {},
   "outputs": [],
   "source": [
    "df1.drop(['country','population'],axis=1, inplace=True)"
   ]
  },
  {
   "cell_type": "code",
   "execution_count": 8,
   "metadata": {},
   "outputs": [],
   "source": [
    "def remove_last_word_after_space(s):\n",
    "    words = str(s).split()\n",
    "    if len(words) > 1:\n",
    "        words = words[:-1]\n",
    "    return ' '.join(words)"
   ]
  },
  {
   "cell_type": "code",
   "execution_count": 9,
   "metadata": {},
   "outputs": [],
   "source": [
    "df['Born city'] = df['Born city'].apply(remove_last_word_after_space)"
   ]
  },
  {
   "cell_type": "code",
   "execution_count": null,
   "metadata": {},
   "outputs": [],
   "source": []
  },
  {
   "cell_type": "code",
   "execution_count": 13,
   "metadata": {},
   "outputs": [],
   "source": [
    "df['Organization city'] = df['Organization city'].apply(remove_last_word_after_space)"
   ]
  },
  {
   "cell_type": "code",
   "execution_count": null,
   "metadata": {},
   "outputs": [],
   "source": []
  },
  {
   "cell_type": "code",
   "execution_count": 171,
   "metadata": {},
   "outputs": [
    {
     "data": {
      "text/plain": [
       "0        Tsukuba\n",
       "1       Stanford\n",
       "2      Göttingen\n",
       "4            St.\n",
       "5         London\n",
       "         ...    \n",
       "984          nan\n",
       "985    Cambridge\n",
       "986      Chicago\n",
       "987    New Haven\n",
       "988    New Haven\n",
       "Name: Organization city, Length: 958, dtype: object"
      ]
     },
     "execution_count": 171,
     "metadata": {},
     "output_type": "execute_result"
    }
   ],
   "source": [
    "df['Organization city']"
   ]
  },
  {
   "cell_type": "code",
   "execution_count": 143,
   "metadata": {},
   "outputs": [],
   "source": [
    "merged_df = df.merge(df1, left_on='Organization city', right_on='city', how='left')"
   ]
  },
  {
   "cell_type": "code",
   "execution_count": null,
   "metadata": {},
   "outputs": [],
   "source": []
  },
  {
   "cell_type": "code",
   "execution_count": null,
   "metadata": {},
   "outputs": [],
   "source": []
  },
  {
   "cell_type": "code",
   "execution_count": 144,
   "metadata": {},
   "outputs": [
    {
     "data": {
      "text/html": [
       "<div>\n",
       "<style scoped>\n",
       "    .dataframe tbody tr th:only-of-type {\n",
       "        vertical-align: middle;\n",
       "    }\n",
       "\n",
       "    .dataframe tbody tr th {\n",
       "        vertical-align: top;\n",
       "    }\n",
       "\n",
       "    .dataframe thead th {\n",
       "        text-align: right;\n",
       "    }\n",
       "</style>\n",
       "<table border=\"1\" class=\"dataframe\">\n",
       "  <thead>\n",
       "    <tr style=\"text-align: right;\">\n",
       "      <th></th>\n",
       "      <th>Id</th>\n",
       "      <th>Firstname</th>\n",
       "      <th>Surname</th>\n",
       "      <th>Born</th>\n",
       "      <th>Died</th>\n",
       "      <th>Born country</th>\n",
       "      <th>Born country code</th>\n",
       "      <th>Born city</th>\n",
       "      <th>Gender</th>\n",
       "      <th>Year</th>\n",
       "      <th>Category</th>\n",
       "      <th>Overall motivation</th>\n",
       "      <th>Motivation</th>\n",
       "      <th>Organization name</th>\n",
       "      <th>Organization city</th>\n",
       "      <th>Organization country</th>\n",
       "      <th>Geo Point 2D</th>\n",
       "      <th>city</th>\n",
       "      <th>lat</th>\n",
       "      <th>lng</th>\n",
       "    </tr>\n",
       "  </thead>\n",
       "  <tbody>\n",
       "    <tr>\n",
       "      <th>0</th>\n",
       "      <td>827</td>\n",
       "      <td>Makoto</td>\n",
       "      <td>Kobayashi</td>\n",
       "      <td>1944-04-07</td>\n",
       "      <td>Not Applicable</td>\n",
       "      <td>Japan</td>\n",
       "      <td>JP</td>\n",
       "      <td>Nagoya</td>\n",
       "      <td>male</td>\n",
       "      <td>2008</td>\n",
       "      <td>Physics</td>\n",
       "      <td>Not Available</td>\n",
       "      <td>\"for the discovery of the origin of the broken...</td>\n",
       "      <td>High Energy Accelerator Research Organization ...</td>\n",
       "      <td>Tsukuba</td>\n",
       "      <td>Japan</td>\n",
       "      <td>37.552622590632275, 137.97995950757186</td>\n",
       "      <td>NaN</td>\n",
       "      <td>NaN</td>\n",
       "      <td>NaN</td>\n",
       "    </tr>\n",
       "    <tr>\n",
       "      <th>1</th>\n",
       "      <td>879</td>\n",
       "      <td>Brian</td>\n",
       "      <td>Kobilka</td>\n",
       "      <td>1955-05-30</td>\n",
       "      <td>Not Applicable</td>\n",
       "      <td>USA</td>\n",
       "      <td>US</td>\n",
       "      <td>Little Falls MN</td>\n",
       "      <td>male</td>\n",
       "      <td>2012</td>\n",
       "      <td>Chemistry</td>\n",
       "      <td>Not Available</td>\n",
       "      <td>\"for studies of G-protein-coupled receptors\"</td>\n",
       "      <td>Stanford University School of Medicine</td>\n",
       "      <td>Stanford</td>\n",
       "      <td>USA</td>\n",
       "      <td>45.68753333949257, -112.49433391594603</td>\n",
       "      <td>NaN</td>\n",
       "      <td>NaN</td>\n",
       "      <td>NaN</td>\n",
       "    </tr>\n",
       "    <tr>\n",
       "      <th>2</th>\n",
       "      <td>910</td>\n",
       "      <td>Stefan W.</td>\n",
       "      <td>Hell</td>\n",
       "      <td>1962-12-23</td>\n",
       "      <td>Not Applicable</td>\n",
       "      <td>Romania</td>\n",
       "      <td>RO</td>\n",
       "      <td>Arad</td>\n",
       "      <td>male</td>\n",
       "      <td>2014</td>\n",
       "      <td>Chemistry</td>\n",
       "      <td>Not Available</td>\n",
       "      <td>\"for the development of super-resolved fluores...</td>\n",
       "      <td>Max Planck Institute for Biophysical Chemistry</td>\n",
       "      <td>Göttingen</td>\n",
       "      <td>Germany</td>\n",
       "      <td>51.106273435758716, 10.381710872747187</td>\n",
       "      <td>Göttingen</td>\n",
       "      <td>51.5204</td>\n",
       "      <td>9.9200</td>\n",
       "    </tr>\n",
       "    <tr>\n",
       "      <th>3</th>\n",
       "      <td>296</td>\n",
       "      <td>Ivan</td>\n",
       "      <td>Pavlov</td>\n",
       "      <td>1849-09-14</td>\n",
       "      <td>1936-02-27</td>\n",
       "      <td>Russia</td>\n",
       "      <td>RU</td>\n",
       "      <td>Ryazan</td>\n",
       "      <td>male</td>\n",
       "      <td>1904</td>\n",
       "      <td>Medicine</td>\n",
       "      <td>Not Available</td>\n",
       "      <td>\"in recognition of his work on the physiology ...</td>\n",
       "      <td>Military Medical Academy</td>\n",
       "      <td>St.</td>\n",
       "      <td>Russia</td>\n",
       "      <td>61.98434173753368, 96.6934557674586</td>\n",
       "      <td>NaN</td>\n",
       "      <td>NaN</td>\n",
       "      <td>NaN</td>\n",
       "    </tr>\n",
       "    <tr>\n",
       "      <th>4</th>\n",
       "      <td>311</td>\n",
       "      <td>Archibald V.</td>\n",
       "      <td>Hill</td>\n",
       "      <td>1886-09-26</td>\n",
       "      <td>1977-06-03</td>\n",
       "      <td>United Kingdom</td>\n",
       "      <td>GB</td>\n",
       "      <td>Bristol</td>\n",
       "      <td>male</td>\n",
       "      <td>1922</td>\n",
       "      <td>Medicine</td>\n",
       "      <td>Not Available</td>\n",
       "      <td>\"for his discovery relating to the production ...</td>\n",
       "      <td>London University</td>\n",
       "      <td>London</td>\n",
       "      <td>United Kingdom</td>\n",
       "      <td>0</td>\n",
       "      <td>London</td>\n",
       "      <td>51.5000</td>\n",
       "      <td>-0.1167</td>\n",
       "    </tr>\n",
       "    <tr>\n",
       "      <th>...</th>\n",
       "      <td>...</td>\n",
       "      <td>...</td>\n",
       "      <td>...</td>\n",
       "      <td>...</td>\n",
       "      <td>...</td>\n",
       "      <td>...</td>\n",
       "      <td>...</td>\n",
       "      <td>...</td>\n",
       "      <td>...</td>\n",
       "      <td>...</td>\n",
       "      <td>...</td>\n",
       "      <td>...</td>\n",
       "      <td>...</td>\n",
       "      <td>...</td>\n",
       "      <td>...</td>\n",
       "      <td>...</td>\n",
       "      <td>...</td>\n",
       "      <td>...</td>\n",
       "      <td>...</td>\n",
       "      <td>...</td>\n",
       "    </tr>\n",
       "    <tr>\n",
       "      <th>892</th>\n",
       "      <td>679</td>\n",
       "      <td>Paul A.</td>\n",
       "      <td>Samuelson</td>\n",
       "      <td>1915-05-15</td>\n",
       "      <td>2009-12-13</td>\n",
       "      <td>USA</td>\n",
       "      <td>US</td>\n",
       "      <td>Gary IN</td>\n",
       "      <td>male</td>\n",
       "      <td>1970</td>\n",
       "      <td>Economics</td>\n",
       "      <td>Not Available</td>\n",
       "      <td>\"for the scientific work through which he has ...</td>\n",
       "      <td>Massachusetts Institute of Technology (MIT)</td>\n",
       "      <td>Cambridge</td>\n",
       "      <td>USA</td>\n",
       "      <td>45.68753333949257, -112.49433391594603</td>\n",
       "      <td>Cambridge</td>\n",
       "      <td>52.2004</td>\n",
       "      <td>0.1166</td>\n",
       "    </tr>\n",
       "    <tr>\n",
       "      <th>893</th>\n",
       "      <td>679</td>\n",
       "      <td>Paul A.</td>\n",
       "      <td>Samuelson</td>\n",
       "      <td>1915-05-15</td>\n",
       "      <td>2009-12-13</td>\n",
       "      <td>USA</td>\n",
       "      <td>US</td>\n",
       "      <td>Gary IN</td>\n",
       "      <td>male</td>\n",
       "      <td>1970</td>\n",
       "      <td>Economics</td>\n",
       "      <td>Not Available</td>\n",
       "      <td>\"for the scientific work through which he has ...</td>\n",
       "      <td>Massachusetts Institute of Technology (MIT)</td>\n",
       "      <td>Cambridge</td>\n",
       "      <td>USA</td>\n",
       "      <td>45.68753333949257, -112.49433391594603</td>\n",
       "      <td>Cambridge</td>\n",
       "      <td>42.3758</td>\n",
       "      <td>-71.1184</td>\n",
       "    </tr>\n",
       "    <tr>\n",
       "      <th>894</th>\n",
       "      <td>714</td>\n",
       "      <td>Robert E.</td>\n",
       "      <td>Lucas Jr.</td>\n",
       "      <td>1937-09-15</td>\n",
       "      <td>2023-05-15</td>\n",
       "      <td>USA</td>\n",
       "      <td>US</td>\n",
       "      <td>Yakima WA</td>\n",
       "      <td>male</td>\n",
       "      <td>1995</td>\n",
       "      <td>Economics</td>\n",
       "      <td>Not Available</td>\n",
       "      <td>\"for having developed and applied the hypothes...</td>\n",
       "      <td>University of Chicago</td>\n",
       "      <td>Chicago</td>\n",
       "      <td>USA</td>\n",
       "      <td>45.68753333949257, -112.49433391594603</td>\n",
       "      <td>Chicago</td>\n",
       "      <td>41.8373</td>\n",
       "      <td>-87.6861</td>\n",
       "    </tr>\n",
       "    <tr>\n",
       "      <th>895</th>\n",
       "      <td>842</td>\n",
       "      <td>Thomas A.</td>\n",
       "      <td>Steitz</td>\n",
       "      <td>1940-08-23</td>\n",
       "      <td>2018-08-23</td>\n",
       "      <td>USA</td>\n",
       "      <td>US</td>\n",
       "      <td>Milwaukee WI</td>\n",
       "      <td>male</td>\n",
       "      <td>2009</td>\n",
       "      <td>Chemistry</td>\n",
       "      <td>Not Available</td>\n",
       "      <td>\"for studies of the structure and function of ...</td>\n",
       "      <td>Yale University</td>\n",
       "      <td>New Haven</td>\n",
       "      <td>USA</td>\n",
       "      <td>45.68753333949257, -112.49433391594603</td>\n",
       "      <td>New Haven</td>\n",
       "      <td>41.3112</td>\n",
       "      <td>-72.9245</td>\n",
       "    </tr>\n",
       "    <tr>\n",
       "      <th>896</th>\n",
       "      <td>884</td>\n",
       "      <td>James E.</td>\n",
       "      <td>Rothman</td>\n",
       "      <td>1950-11-03</td>\n",
       "      <td>Not Applicable</td>\n",
       "      <td>USA</td>\n",
       "      <td>US</td>\n",
       "      <td>Haverhill MA</td>\n",
       "      <td>male</td>\n",
       "      <td>2013</td>\n",
       "      <td>Medicine</td>\n",
       "      <td>Not Available</td>\n",
       "      <td>\"for their discoveries of machinery regulating...</td>\n",
       "      <td>Yale University</td>\n",
       "      <td>New Haven</td>\n",
       "      <td>USA</td>\n",
       "      <td>45.68753333949257, -112.49433391594603</td>\n",
       "      <td>New Haven</td>\n",
       "      <td>41.3112</td>\n",
       "      <td>-72.9245</td>\n",
       "    </tr>\n",
       "  </tbody>\n",
       "</table>\n",
       "<p>897 rows × 20 columns</p>\n",
       "</div>"
      ],
      "text/plain": [
       "      Id     Firstname    Surname        Born            Died    Born country  \\\n",
       "0    827        Makoto  Kobayashi  1944-04-07  Not Applicable           Japan   \n",
       "1    879         Brian    Kobilka  1955-05-30  Not Applicable             USA   \n",
       "2    910     Stefan W.       Hell  1962-12-23  Not Applicable         Romania   \n",
       "3    296          Ivan     Pavlov  1849-09-14      1936-02-27          Russia   \n",
       "4    311  Archibald V.       Hill  1886-09-26      1977-06-03  United Kingdom   \n",
       "..   ...           ...        ...         ...             ...             ...   \n",
       "892  679       Paul A.  Samuelson  1915-05-15      2009-12-13             USA   \n",
       "893  679       Paul A.  Samuelson  1915-05-15      2009-12-13             USA   \n",
       "894  714     Robert E.  Lucas Jr.  1937-09-15      2023-05-15             USA   \n",
       "895  842     Thomas A.     Steitz  1940-08-23      2018-08-23             USA   \n",
       "896  884      James E.    Rothman  1950-11-03  Not Applicable             USA   \n",
       "\n",
       "    Born country code        Born city Gender  Year   Category  \\\n",
       "0                  JP           Nagoya   male  2008    Physics   \n",
       "1                  US  Little Falls MN   male  2012  Chemistry   \n",
       "2                  RO             Arad   male  2014  Chemistry   \n",
       "3                  RU           Ryazan   male  1904   Medicine   \n",
       "4                  GB          Bristol   male  1922   Medicine   \n",
       "..                ...              ...    ...   ...        ...   \n",
       "892                US          Gary IN   male  1970  Economics   \n",
       "893                US          Gary IN   male  1970  Economics   \n",
       "894                US        Yakima WA   male  1995  Economics   \n",
       "895                US     Milwaukee WI   male  2009  Chemistry   \n",
       "896                US     Haverhill MA   male  2013   Medicine   \n",
       "\n",
       "    Overall motivation                                         Motivation  \\\n",
       "0        Not Available  \"for the discovery of the origin of the broken...   \n",
       "1        Not Available       \"for studies of G-protein-coupled receptors\"   \n",
       "2        Not Available  \"for the development of super-resolved fluores...   \n",
       "3        Not Available  \"in recognition of his work on the physiology ...   \n",
       "4        Not Available  \"for his discovery relating to the production ...   \n",
       "..                 ...                                                ...   \n",
       "892      Not Available  \"for the scientific work through which he has ...   \n",
       "893      Not Available  \"for the scientific work through which he has ...   \n",
       "894      Not Available  \"for having developed and applied the hypothes...   \n",
       "895      Not Available  \"for studies of the structure and function of ...   \n",
       "896      Not Available  \"for their discoveries of machinery regulating...   \n",
       "\n",
       "                                     Organization name Organization city  \\\n",
       "0    High Energy Accelerator Research Organization ...           Tsukuba   \n",
       "1               Stanford University School of Medicine          Stanford   \n",
       "2       Max Planck Institute for Biophysical Chemistry         Göttingen   \n",
       "3                             Military Medical Academy               St.   \n",
       "4                                    London University            London   \n",
       "..                                                 ...               ...   \n",
       "892        Massachusetts Institute of Technology (MIT)         Cambridge   \n",
       "893        Massachusetts Institute of Technology (MIT)         Cambridge   \n",
       "894                              University of Chicago           Chicago   \n",
       "895                                    Yale University         New Haven   \n",
       "896                                    Yale University         New Haven   \n",
       "\n",
       "    Organization country                            Geo Point 2D       city  \\\n",
       "0                  Japan  37.552622590632275, 137.97995950757186        NaN   \n",
       "1                    USA  45.68753333949257, -112.49433391594603        NaN   \n",
       "2                Germany  51.106273435758716, 10.381710872747187  Göttingen   \n",
       "3                 Russia     61.98434173753368, 96.6934557674586        NaN   \n",
       "4         United Kingdom                                       0     London   \n",
       "..                   ...                                     ...        ...   \n",
       "892                  USA  45.68753333949257, -112.49433391594603  Cambridge   \n",
       "893                  USA  45.68753333949257, -112.49433391594603  Cambridge   \n",
       "894                  USA  45.68753333949257, -112.49433391594603    Chicago   \n",
       "895                  USA  45.68753333949257, -112.49433391594603  New Haven   \n",
       "896                  USA  45.68753333949257, -112.49433391594603  New Haven   \n",
       "\n",
       "         lat      lng  \n",
       "0        NaN      NaN  \n",
       "1        NaN      NaN  \n",
       "2    51.5204   9.9200  \n",
       "3        NaN      NaN  \n",
       "4    51.5000  -0.1167  \n",
       "..       ...      ...  \n",
       "892  52.2004   0.1166  \n",
       "893  42.3758 -71.1184  \n",
       "894  41.8373 -87.6861  \n",
       "895  41.3112 -72.9245  \n",
       "896  41.3112 -72.9245  \n",
       "\n",
       "[897 rows x 20 columns]"
      ]
     },
     "execution_count": 144,
     "metadata": {},
     "output_type": "execute_result"
    }
   ],
   "source": [
    "merged_df"
   ]
  },
  {
   "cell_type": "code",
   "execution_count": 147,
   "metadata": {},
   "outputs": [
    {
     "data": {
      "text/plain": [
       "Id                      0\n",
       "Firstname               0\n",
       "Surname                 0\n",
       "Born                    0\n",
       "Died                    0\n",
       "Born country            0\n",
       "Born country code       0\n",
       "Born city               0\n",
       "Gender                  0\n",
       "Year                    0\n",
       "Category                0\n",
       "Overall motivation      0\n",
       "Motivation              0\n",
       "Organization name       0\n",
       "Organization city       0\n",
       "Organization country    0\n",
       "Geo Point 2D            0\n",
       "city                    0\n",
       "lat                     0\n",
       "lng                     0\n",
       "dtype: int64"
      ]
     },
     "execution_count": 147,
     "metadata": {},
     "output_type": "execute_result"
    }
   ],
   "source": [
    "merged_df.isna().sum()"
   ]
  },
  {
   "cell_type": "code",
   "execution_count": 146,
   "metadata": {},
   "outputs": [],
   "source": [
    "merged_df.dropna(inplace=True)"
   ]
  },
  {
   "cell_type": "code",
   "execution_count": 149,
   "metadata": {},
   "outputs": [
    {
     "data": {
      "text/plain": [
       "(733, 20)"
      ]
     },
     "execution_count": 149,
     "metadata": {},
     "output_type": "execute_result"
    }
   ],
   "source": [
    "merged_df.shape"
   ]
  },
  {
   "cell_type": "code",
   "execution_count": 199,
   "metadata": {},
   "outputs": [],
   "source": [
    "test.to_csv('final_data.csv',index=False)"
   ]
  }
 ],
 "metadata": {
  "kernelspec": {
   "display_name": "Python 3",
   "language": "python",
   "name": "python3"
  },
  "language_info": {
   "codemirror_mode": {
    "name": "ipython",
    "version": 3
   },
   "file_extension": ".py",
   "mimetype": "text/x-python",
   "name": "python",
   "nbconvert_exporter": "python",
   "pygments_lexer": "ipython3",
   "version": "3.11.5"
  }
 },
 "nbformat": 4,
 "nbformat_minor": 2
}
